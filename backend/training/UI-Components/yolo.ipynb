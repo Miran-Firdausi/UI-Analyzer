{
 "cells": [
  {
   "cell_type": "code",
   "execution_count": 2,
   "id": "f74796a7",
   "metadata": {},
   "outputs": [],
   "source": [
    "from ultralytics import YOLO"
   ]
  },
  {
   "cell_type": "code",
   "execution_count": 2,
   "id": "5d96b17d",
   "metadata": {},
   "outputs": [
    {
     "name": "stdout",
     "output_type": "stream",
     "text": [
      "Ultralytics 8.3.106 🚀 Python-3.10.12 torch-2.6.0+cu124 CUDA:0 (NVIDIA GeForce GTX 1650 with Max-Q Design, 4096MiB)\n",
      "\u001b[34m\u001b[1mengine/trainer: \u001b[0mtask=detect, mode=train, model=yolov8n.pt, data=data.yaml, epochs=20, time=None, patience=100, batch=8, imgsz=640, save=True, save_period=-1, cache=False, device=cuda, workers=8, project=None, name=train3, exist_ok=False, pretrained=True, optimizer=auto, verbose=True, seed=0, deterministic=True, single_cls=False, rect=False, cos_lr=False, close_mosaic=10, resume=False, amp=True, fraction=1.0, profile=False, freeze=None, multi_scale=False, overlap_mask=True, mask_ratio=4, dropout=0.0, val=True, split=val, save_json=False, conf=None, iou=0.7, max_det=300, half=False, dnn=False, plots=True, source=None, vid_stride=1, stream_buffer=False, visualize=False, augment=False, agnostic_nms=False, classes=None, retina_masks=False, embed=None, show=False, save_frames=False, save_txt=False, save_conf=False, save_crop=False, show_labels=True, show_conf=True, show_boxes=True, line_width=None, format=torchscript, keras=False, optimize=False, int8=False, dynamic=False, simplify=True, opset=None, workspace=None, nms=False, lr0=0.01, lrf=0.01, momentum=0.937, weight_decay=0.0005, warmup_epochs=3.0, warmup_momentum=0.8, warmup_bias_lr=0.1, box=7.5, cls=0.5, dfl=1.5, pose=12.0, kobj=1.0, nbs=64, hsv_h=0.015, hsv_s=0.7, hsv_v=0.4, degrees=0.0, translate=0.1, scale=0.5, shear=0.0, perspective=0.0, flipud=0.0, fliplr=0.5, bgr=0.0, mosaic=1.0, mixup=0.0, copy_paste=0.0, copy_paste_mode=flip, auto_augment=randaugment, erasing=0.4, crop_fraction=1.0, cfg=None, tracker=botsort.yaml, save_dir=/mnt/e/Programming-Projects/AIML/CV/UI-Analyzer/runs/detect/train3\n",
      "Overriding model.yaml nc=80 with nc=14\n",
      "\n",
      "                   from  n    params  module                                       arguments                     \n",
      "  0                  -1  1       464  ultralytics.nn.modules.conv.Conv             [3, 16, 3, 2]                 \n",
      "  1                  -1  1      4672  ultralytics.nn.modules.conv.Conv             [16, 32, 3, 2]                \n",
      "  2                  -1  1      7360  ultralytics.nn.modules.block.C2f             [32, 32, 1, True]             \n",
      "  3                  -1  1     18560  ultralytics.nn.modules.conv.Conv             [32, 64, 3, 2]                \n",
      "  4                  -1  2     49664  ultralytics.nn.modules.block.C2f             [64, 64, 2, True]             \n",
      "  5                  -1  1     73984  ultralytics.nn.modules.conv.Conv             [64, 128, 3, 2]               \n",
      "  6                  -1  2    197632  ultralytics.nn.modules.block.C2f             [128, 128, 2, True]           \n",
      "  7                  -1  1    295424  ultralytics.nn.modules.conv.Conv             [128, 256, 3, 2]              \n",
      "  8                  -1  1    460288  ultralytics.nn.modules.block.C2f             [256, 256, 1, True]           \n",
      "  9                  -1  1    164608  ultralytics.nn.modules.block.SPPF            [256, 256, 5]                 \n",
      " 10                  -1  1         0  torch.nn.modules.upsampling.Upsample         [None, 2, 'nearest']          \n",
      " 11             [-1, 6]  1         0  ultralytics.nn.modules.conv.Concat           [1]                           \n",
      " 12                  -1  1    148224  ultralytics.nn.modules.block.C2f             [384, 128, 1]                 \n",
      " 13                  -1  1         0  torch.nn.modules.upsampling.Upsample         [None, 2, 'nearest']          \n",
      " 14             [-1, 4]  1         0  ultralytics.nn.modules.conv.Concat           [1]                           \n",
      " 15                  -1  1     37248  ultralytics.nn.modules.block.C2f             [192, 64, 1]                  \n",
      " 16                  -1  1     36992  ultralytics.nn.modules.conv.Conv             [64, 64, 3, 2]                \n",
      " 17            [-1, 12]  1         0  ultralytics.nn.modules.conv.Concat           [1]                           \n",
      " 18                  -1  1    123648  ultralytics.nn.modules.block.C2f             [192, 128, 1]                 \n",
      " 19                  -1  1    147712  ultralytics.nn.modules.conv.Conv             [128, 128, 3, 2]              \n",
      " 20             [-1, 9]  1         0  ultralytics.nn.modules.conv.Concat           [1]                           \n",
      " 21                  -1  1    493056  ultralytics.nn.modules.block.C2f             [384, 256, 1]                 \n",
      " 22        [15, 18, 21]  1    754042  ultralytics.nn.modules.head.Detect           [14, [64, 128, 256]]          \n",
      "Model summary: 129 layers, 3,013,578 parameters, 3,013,562 gradients, 8.2 GFLOPs\n",
      "\n",
      "Transferred 319/355 items from pretrained weights\n",
      "Freezing layer 'model.22.dfl.conv.weight'\n",
      "\u001b[34m\u001b[1mAMP: \u001b[0mchecks failed ❌. AMP training on NVIDIA GeForce GTX 1650 with Max-Q Design GPU may cause NaN losses or zero-mAP results, so AMP will be disabled during training.\n"
     ]
    },
    {
     "name": "stderr",
     "output_type": "stream",
     "text": [
      "\u001b[34m\u001b[1mtrain: \u001b[0mScanning /mnt/e/Programming-Projects/AIML/CV/UI-Analyzer/backend/training/UI-Components/train/labels.cache... 1486 images, 2 \u001b[0m"
     ]
    },
    {
     "name": "stdout",
     "output_type": "stream",
     "text": [
      "\u001b[34m\u001b[1mtrain: \u001b[0mWARNING ⚠️ /mnt/e/Programming-Projects/AIML/CV/UI-Analyzer/backend/training/UI-Components/train/images/1012_png.rf.08d9bb7cc470c229e175ea2e18621eba.jpg: 6 duplicate labels removed\n",
      "\u001b[34m\u001b[1mtrain: \u001b[0mWARNING ⚠️ /mnt/e/Programming-Projects/AIML/CV/UI-Analyzer/backend/training/UI-Components/train/images/1018_png.rf.4060c3aa12fd4897886a035f21128532.jpg: 1 duplicate labels removed\n",
      "\u001b[34m\u001b[1mtrain: \u001b[0mWARNING ⚠️ /mnt/e/Programming-Projects/AIML/CV/UI-Analyzer/backend/training/UI-Components/train/images/1085_png.rf.ec436db9e592cc6f4ac6fceed68df26f.jpg: 1 duplicate labels removed\n",
      "\u001b[34m\u001b[1mtrain: \u001b[0mWARNING ⚠️ /mnt/e/Programming-Projects/AIML/CV/UI-Analyzer/backend/training/UI-Components/train/images/1086_png.rf.fd6a1093725144bef3debff14669b0eb.jpg: 1 duplicate labels removed\n",
      "\u001b[34m\u001b[1mtrain: \u001b[0mWARNING ⚠️ /mnt/e/Programming-Projects/AIML/CV/UI-Analyzer/backend/training/UI-Components/train/images/1087_png.rf.e07d95a47c84888aebc96ba963d2753b.jpg: 1 duplicate labels removed\n",
      "\u001b[34m\u001b[1mtrain: \u001b[0mWARNING ⚠️ /mnt/e/Programming-Projects/AIML/CV/UI-Analyzer/backend/training/UI-Components/train/images/127_png.rf.a630493024af32ca8c1cf71697ac29a7.jpg: 1 duplicate labels removed\n",
      "\u001b[34m\u001b[1mtrain: \u001b[0mWARNING ⚠️ /mnt/e/Programming-Projects/AIML/CV/UI-Analyzer/backend/training/UI-Components/train/images/128_png.rf.ef525162d61982e6fe821a17d9a09df6.jpg: 2 duplicate labels removed\n",
      "\u001b[34m\u001b[1mtrain: \u001b[0mWARNING ⚠️ /mnt/e/Programming-Projects/AIML/CV/UI-Analyzer/backend/training/UI-Components/train/images/148_png.rf.60183d7e993f4e7f603c05bd0e553dce.jpg: 1 duplicate labels removed\n",
      "\u001b[34m\u001b[1mtrain: \u001b[0mWARNING ⚠️ /mnt/e/Programming-Projects/AIML/CV/UI-Analyzer/backend/training/UI-Components/train/images/160_png.rf.7ab7937b4333554fd95b64aeabf1e126.jpg: 3 duplicate labels removed\n",
      "\u001b[34m\u001b[1mtrain: \u001b[0mWARNING ⚠️ /mnt/e/Programming-Projects/AIML/CV/UI-Analyzer/backend/training/UI-Components/train/images/185_png.rf.44776187ef5b0912458f6606c29b5916.jpg: 1 duplicate labels removed\n",
      "\u001b[34m\u001b[1mtrain: \u001b[0mWARNING ⚠️ /mnt/e/Programming-Projects/AIML/CV/UI-Analyzer/backend/training/UI-Components/train/images/186_png.rf.77914b16eff1e4005cde0a19470b261a.jpg: 1 duplicate labels removed\n",
      "\u001b[34m\u001b[1mtrain: \u001b[0mWARNING ⚠️ /mnt/e/Programming-Projects/AIML/CV/UI-Analyzer/backend/training/UI-Components/train/images/188_png.rf.e289f05950dfad9d6a704659da751885.jpg: 2 duplicate labels removed\n",
      "\u001b[34m\u001b[1mtrain: \u001b[0mWARNING ⚠️ /mnt/e/Programming-Projects/AIML/CV/UI-Analyzer/backend/training/UI-Components/train/images/190_png.rf.aac6b9a635c5072b546a52ccdb4d1282.jpg: 1 duplicate labels removed\n",
      "\u001b[34m\u001b[1mtrain: \u001b[0mWARNING ⚠️ /mnt/e/Programming-Projects/AIML/CV/UI-Analyzer/backend/training/UI-Components/train/images/191_png.rf.61641c6ec44ae78d7df6ec59be22041c.jpg: 2 duplicate labels removed\n",
      "\u001b[34m\u001b[1mtrain: \u001b[0mWARNING ⚠️ /mnt/e/Programming-Projects/AIML/CV/UI-Analyzer/backend/training/UI-Components/train/images/317_png.rf.c8e3c9131fd6aefe22d4ded19febf021.jpg: 3 duplicate labels removed\n",
      "\u001b[34m\u001b[1mtrain: \u001b[0mWARNING ⚠️ /mnt/e/Programming-Projects/AIML/CV/UI-Analyzer/backend/training/UI-Components/train/images/329_png.rf.6e8c2faff174d63c9d60590d4a04f7f6.jpg: 2 duplicate labels removed\n",
      "\u001b[34m\u001b[1mtrain: \u001b[0mWARNING ⚠️ /mnt/e/Programming-Projects/AIML/CV/UI-Analyzer/backend/training/UI-Components/train/images/351_png.rf.732f01e54254bd7be26e11ef7315bf8f.jpg: 1 duplicate labels removed\n",
      "\u001b[34m\u001b[1mtrain: \u001b[0mWARNING ⚠️ /mnt/e/Programming-Projects/AIML/CV/UI-Analyzer/backend/training/UI-Components/train/images/353_png.rf.838baf6d6ccf6b75a1612b6936888edb.jpg: 2 duplicate labels removed\n",
      "\u001b[34m\u001b[1mtrain: \u001b[0mWARNING ⚠️ /mnt/e/Programming-Projects/AIML/CV/UI-Analyzer/backend/training/UI-Components/train/images/368_png.rf.523cb04ab082f224031857c29064cfe8.jpg: 2 duplicate labels removed\n",
      "\u001b[34m\u001b[1mtrain: \u001b[0mWARNING ⚠️ /mnt/e/Programming-Projects/AIML/CV/UI-Analyzer/backend/training/UI-Components/train/images/375_png.rf.dc1e22e82c4cb314e2915e996ae87593.jpg: 8 duplicate labels removed\n",
      "\u001b[34m\u001b[1mtrain: \u001b[0mWARNING ⚠️ /mnt/e/Programming-Projects/AIML/CV/UI-Analyzer/backend/training/UI-Components/train/images/378_png.rf.f807a29e59e64e5aaae4891d799b19ce.jpg: 1 duplicate labels removed\n",
      "\u001b[34m\u001b[1mtrain: \u001b[0mWARNING ⚠️ /mnt/e/Programming-Projects/AIML/CV/UI-Analyzer/backend/training/UI-Components/train/images/456_png.rf.79b95182f7a8e0006d610b54f33e200f.jpg: 1 duplicate labels removed\n",
      "\u001b[34m\u001b[1mtrain: \u001b[0mWARNING ⚠️ /mnt/e/Programming-Projects/AIML/CV/UI-Analyzer/backend/training/UI-Components/train/images/495_png.rf.00c756f7fdac09656999dc45a10d8f27.jpg: 1 duplicate labels removed\n",
      "\u001b[34m\u001b[1mtrain: \u001b[0mWARNING ⚠️ /mnt/e/Programming-Projects/AIML/CV/UI-Analyzer/backend/training/UI-Components/train/images/496_png.rf.7a77eeb05204af53995f086ea3fcab55.jpg: 1 duplicate labels removed\n",
      "\u001b[34m\u001b[1mtrain: \u001b[0mWARNING ⚠️ /mnt/e/Programming-Projects/AIML/CV/UI-Analyzer/backend/training/UI-Components/train/images/549_png.rf.fa143eecb00f3754d11130a892fccb03.jpg: 1 duplicate labels removed\n",
      "\u001b[34m\u001b[1mtrain: \u001b[0mWARNING ⚠️ /mnt/e/Programming-Projects/AIML/CV/UI-Analyzer/backend/training/UI-Components/train/images/615_png.rf.c2557e15677e98d3abc1ebb374d14dad.jpg: 22 duplicate labels removed\n",
      "\u001b[34m\u001b[1mtrain: \u001b[0mWARNING ⚠️ /mnt/e/Programming-Projects/AIML/CV/UI-Analyzer/backend/training/UI-Components/train/images/617_png.rf.ba263526a490490796fdd0e29752451c.jpg: 1 duplicate labels removed\n",
      "\u001b[34m\u001b[1mtrain: \u001b[0mWARNING ⚠️ /mnt/e/Programming-Projects/AIML/CV/UI-Analyzer/backend/training/UI-Components/train/images/625_png.rf.29e8c362c5a3e55c0be5dd7abce0f6e1.jpg: 1 duplicate labels removed\n",
      "\u001b[34m\u001b[1mtrain: \u001b[0mWARNING ⚠️ /mnt/e/Programming-Projects/AIML/CV/UI-Analyzer/backend/training/UI-Components/train/images/643_png.rf.1075f3dcea056671995ef280defa789b.jpg: 43 duplicate labels removed\n",
      "\u001b[34m\u001b[1mtrain: \u001b[0mWARNING ⚠️ /mnt/e/Programming-Projects/AIML/CV/UI-Analyzer/backend/training/UI-Components/train/images/655_png.rf.7f619925aeb91d1be8acba18f52fb5c5.jpg: 5 duplicate labels removed\n",
      "\u001b[34m\u001b[1mtrain: \u001b[0mWARNING ⚠️ /mnt/e/Programming-Projects/AIML/CV/UI-Analyzer/backend/training/UI-Components/train/images/656_png.rf.99dab3d3c21fe404bb7b9c6105a86c58.jpg: 3 duplicate labels removed\n",
      "\u001b[34m\u001b[1mtrain: \u001b[0mWARNING ⚠️ /mnt/e/Programming-Projects/AIML/CV/UI-Analyzer/backend/training/UI-Components/train/images/657_png.rf.8f54b67bfb6f7c000970f235b84c8d9d.jpg: 3 duplicate labels removed\n",
      "\u001b[34m\u001b[1mtrain: \u001b[0mWARNING ⚠️ /mnt/e/Programming-Projects/AIML/CV/UI-Analyzer/backend/training/UI-Components/train/images/658_png.rf.296e8afeed5a8584c8d078b8396ed565.jpg: 3 duplicate labels removed\n",
      "\u001b[34m\u001b[1mtrain: \u001b[0mWARNING ⚠️ /mnt/e/Programming-Projects/AIML/CV/UI-Analyzer/backend/training/UI-Components/train/images/660_png.rf.c96c0e984952e15af7e015db1f9c346a.jpg: 9 duplicate labels removed\n",
      "\u001b[34m\u001b[1mtrain: \u001b[0mWARNING ⚠️ /mnt/e/Programming-Projects/AIML/CV/UI-Analyzer/backend/training/UI-Components/train/images/664_png.rf.3e076f27d09305e581ffc5c7a237086b.jpg: 5 duplicate labels removed\n",
      "\u001b[34m\u001b[1mtrain: \u001b[0mWARNING ⚠️ /mnt/e/Programming-Projects/AIML/CV/UI-Analyzer/backend/training/UI-Components/train/images/665_png.rf.3892eed4c768e831c8cd0bf04d9bd509.jpg: 2 duplicate labels removed\n",
      "\u001b[34m\u001b[1mtrain: \u001b[0mWARNING ⚠️ /mnt/e/Programming-Projects/AIML/CV/UI-Analyzer/backend/training/UI-Components/train/images/666_png.rf.1472fcbab881a7eea12a1779eddb9bc9.jpg: 1 duplicate labels removed\n",
      "\u001b[34m\u001b[1mtrain: \u001b[0mWARNING ⚠️ /mnt/e/Programming-Projects/AIML/CV/UI-Analyzer/backend/training/UI-Components/train/images/697_png.rf.b7dc9076043ce8739452a4bed5878c96.jpg: 1 duplicate labels removed\n",
      "\u001b[34m\u001b[1mtrain: \u001b[0mWARNING ⚠️ /mnt/e/Programming-Projects/AIML/CV/UI-Analyzer/backend/training/UI-Components/train/images/756_png.rf.34ee93242afcb28d490298aeebaf2368.jpg: 7 duplicate labels removed\n",
      "\u001b[34m\u001b[1mtrain: \u001b[0mWARNING ⚠️ /mnt/e/Programming-Projects/AIML/CV/UI-Analyzer/backend/training/UI-Components/train/images/784_png.rf.fdf03dcf303dd2f040963437a30c1def.jpg: 1 duplicate labels removed\n",
      "\u001b[34m\u001b[1mtrain: \u001b[0mWARNING ⚠️ /mnt/e/Programming-Projects/AIML/CV/UI-Analyzer/backend/training/UI-Components/train/images/817_png.rf.de4445397daa12ca11b45c31d878d66e.jpg: 6 duplicate labels removed\n",
      "\u001b[34m\u001b[1mtrain: \u001b[0mWARNING ⚠️ /mnt/e/Programming-Projects/AIML/CV/UI-Analyzer/backend/training/UI-Components/train/images/872_png.rf.afe01b9fe041f15536d2ebd2ccfb1e64.jpg: 1 duplicate labels removed\n",
      "\u001b[34m\u001b[1mtrain: \u001b[0mWARNING ⚠️ /mnt/e/Programming-Projects/AIML/CV/UI-Analyzer/backend/training/UI-Components/train/images/90_png.rf.e651d77420ee0494811804bc2c926ab8.jpg: 1 duplicate labels removed\n",
      "\u001b[34m\u001b[1mtrain: \u001b[0mWARNING ⚠️ /mnt/e/Programming-Projects/AIML/CV/UI-Analyzer/backend/training/UI-Components/train/images/934_png.rf.99dbaa3d19d5889a1ddbd4b42ae837ae.jpg: 3 duplicate labels removed\n",
      "\u001b[34m\u001b[1mtrain: \u001b[0mWARNING ⚠️ /mnt/e/Programming-Projects/AIML/CV/UI-Analyzer/backend/training/UI-Components/train/images/986_png.rf.3dc1ab1841ab6cadbeb30d1d852df9c5.jpg: 26 duplicate labels removed\n"
     ]
    },
    {
     "name": "stderr",
     "output_type": "stream",
     "text": [
      "\n",
      "\u001b[34m\u001b[1mval: \u001b[0mScanning /mnt/e/Programming-Projects/AIML/CV/UI-Analyzer/backend/training/UI-Components/valid/labels.cache... 425 images, 0 bac\u001b[0m"
     ]
    },
    {
     "name": "stdout",
     "output_type": "stream",
     "text": [
      "\u001b[34m\u001b[1mval: \u001b[0mWARNING ⚠️ /mnt/e/Programming-Projects/AIML/CV/UI-Analyzer/backend/training/UI-Components/valid/images/1019_png.rf.fea3a0004718a680308aacae4ed5ac45.jpg: 1 duplicate labels removed\n",
      "\u001b[34m\u001b[1mval: \u001b[0mWARNING ⚠️ /mnt/e/Programming-Projects/AIML/CV/UI-Analyzer/backend/training/UI-Components/valid/images/1065_png.rf.b6a7b1ed765321996eed4755e9f0de02.jpg: 7 duplicate labels removed\n",
      "\u001b[34m\u001b[1mval: \u001b[0mWARNING ⚠️ /mnt/e/Programming-Projects/AIML/CV/UI-Analyzer/backend/training/UI-Components/valid/images/1096_png.rf.be2affe4f3121bc02983de3e396d9e26.jpg: 43 duplicate labels removed\n",
      "\u001b[34m\u001b[1mval: \u001b[0mWARNING ⚠️ /mnt/e/Programming-Projects/AIML/CV/UI-Analyzer/backend/training/UI-Components/valid/images/149_png.rf.8ab5782ca850321bc82af2bd61601a4d.jpg: 15 duplicate labels removed\n",
      "\u001b[34m\u001b[1mval: \u001b[0mWARNING ⚠️ /mnt/e/Programming-Projects/AIML/CV/UI-Analyzer/backend/training/UI-Components/valid/images/164_png.rf.4493cff41ec4888a6c5d8590ca27e109.jpg: 2 duplicate labels removed\n",
      "\u001b[34m\u001b[1mval: \u001b[0mWARNING ⚠️ /mnt/e/Programming-Projects/AIML/CV/UI-Analyzer/backend/training/UI-Components/valid/images/189_png.rf.7041c7a7570ecbdee740f372a4429ce5.jpg: 1 duplicate labels removed\n",
      "\u001b[34m\u001b[1mval: \u001b[0mWARNING ⚠️ /mnt/e/Programming-Projects/AIML/CV/UI-Analyzer/backend/training/UI-Components/valid/images/194_png.rf.8121f54a0b233fa1e887f3db3afe26b0.jpg: 1 duplicate labels removed\n",
      "\u001b[34m\u001b[1mval: \u001b[0mWARNING ⚠️ /mnt/e/Programming-Projects/AIML/CV/UI-Analyzer/backend/training/UI-Components/valid/images/599_png.rf.695202bf2f214b76a34597c7d6fa824b.jpg: 1 duplicate labels removed\n",
      "\u001b[34m\u001b[1mval: \u001b[0mWARNING ⚠️ /mnt/e/Programming-Projects/AIML/CV/UI-Analyzer/backend/training/UI-Components/valid/images/659_png.rf.2882f34e5a21689186c3f42f652798c9.jpg: 3 duplicate labels removed\n",
      "\u001b[34m\u001b[1mval: \u001b[0mWARNING ⚠️ /mnt/e/Programming-Projects/AIML/CV/UI-Analyzer/backend/training/UI-Components/valid/images/768_png.rf.809c69ea25e1f725f3877e0872e73c9e.jpg: 1 duplicate labels removed\n",
      "\u001b[34m\u001b[1mval: \u001b[0mWARNING ⚠️ /mnt/e/Programming-Projects/AIML/CV/UI-Analyzer/backend/training/UI-Components/valid/images/783_png.rf.14d518a82473f3b78f5cdb6ab2f3a59b.jpg: 1 duplicate labels removed\n",
      "\u001b[34m\u001b[1mval: \u001b[0mWARNING ⚠️ /mnt/e/Programming-Projects/AIML/CV/UI-Analyzer/backend/training/UI-Components/valid/images/993_png.rf.38ff126cd4e566b5a25498fe0d2ee46c.jpg: 1 duplicate labels removed\n"
     ]
    },
    {
     "name": "stderr",
     "output_type": "stream",
     "text": [
      "\n"
     ]
    },
    {
     "name": "stdout",
     "output_type": "stream",
     "text": [
      "Plotting labels to /mnt/e/Programming-Projects/AIML/CV/UI-Analyzer/runs/detect/train3/labels.jpg... \n",
      "\u001b[34m\u001b[1moptimizer:\u001b[0m 'optimizer=auto' found, ignoring 'lr0=0.01' and 'momentum=0.937' and determining best 'optimizer', 'lr0' and 'momentum' automatically... \n",
      "\u001b[34m\u001b[1moptimizer:\u001b[0m AdamW(lr=0.000556, momentum=0.9) with parameter groups 57 weight(decay=0.0), 64 weight(decay=0.0005), 63 bias(decay=0.0)\n",
      "Image sizes 640 train, 640 val\n",
      "Using 8 dataloader workers\n",
      "Logging results to \u001b[1m/mnt/e/Programming-Projects/AIML/CV/UI-Analyzer/runs/detect/train3\u001b[0m\n",
      "Starting training for 20 epochs...\n",
      "\n",
      "      Epoch    GPU_mem   box_loss   cls_loss   dfl_loss  Instances       Size\n"
     ]
    },
    {
     "name": "stderr",
     "output_type": "stream",
     "text": [
      "       1/20      5.54G      2.136      3.447      1.553        188        640: 100%|██████████| 186/186 [01:18<00:00,  2.37it/s]\n",
      "                 Class     Images  Instances      Box(P          R      mAP50  mAP50-95): 100%|██████████| 27/27 [00:11<00:00,  2.35"
     ]
    },
    {
     "name": "stdout",
     "output_type": "stream",
     "text": [
      "                   all        425       7665      0.796     0.0914     0.0643      0.033\n"
     ]
    },
    {
     "name": "stderr",
     "output_type": "stream",
     "text": [
      "\n"
     ]
    },
    {
     "name": "stdout",
     "output_type": "stream",
     "text": [
      "\n",
      "      Epoch    GPU_mem   box_loss   cls_loss   dfl_loss  Instances       Size\n"
     ]
    },
    {
     "name": "stderr",
     "output_type": "stream",
     "text": [
      "       2/20      4.77G      1.899      2.388      1.411        191        640: 100%|██████████| 186/186 [01:08<00:00,  2.70it/s]\n",
      "                 Class     Images  Instances      Box(P          R      mAP50  mAP50-95): 100%|██████████| 27/27 [00:07<00:00,  3.84\n"
     ]
    },
    {
     "name": "stdout",
     "output_type": "stream",
     "text": [
      "                   all        425       7665      0.733      0.124     0.0871     0.0468\n",
      "\n",
      "      Epoch    GPU_mem   box_loss   cls_loss   dfl_loss  Instances       Size\n"
     ]
    },
    {
     "name": "stderr",
     "output_type": "stream",
     "text": [
      "       3/20      4.81G      1.815      2.173      1.373        152        640: 100%|██████████| 186/186 [01:03<00:00,  2.93it/s]\n",
      "                 Class     Images  Instances      Box(P          R      mAP50  mAP50-95): 100%|██████████| 27/27 [00:07<00:00,  3.84\n"
     ]
    },
    {
     "name": "stdout",
     "output_type": "stream",
     "text": [
      "                   all        425       7665       0.68      0.142     0.0998     0.0526\n",
      "\n",
      "      Epoch    GPU_mem   box_loss   cls_loss   dfl_loss  Instances       Size\n"
     ]
    },
    {
     "name": "stderr",
     "output_type": "stream",
     "text": [
      "       4/20      5.04G      1.764      2.102      1.361        328        640: 100%|██████████| 186/186 [01:08<00:00,  2.73it/s]\n",
      "                 Class     Images  Instances      Box(P          R      mAP50  mAP50-95): 100%|██████████| 27/27 [00:07<00:00,  3.84\n"
     ]
    },
    {
     "name": "stdout",
     "output_type": "stream",
     "text": [
      "                   all        425       7665      0.718      0.178      0.144      0.083\n",
      "\n",
      "      Epoch    GPU_mem   box_loss   cls_loss   dfl_loss  Instances       Size\n"
     ]
    },
    {
     "name": "stderr",
     "output_type": "stream",
     "text": [
      "       5/20      7.98G      1.722      2.015      1.329        240        640: 100%|██████████| 186/186 [01:36<00:00,  1.93it/s]\n",
      "                 Class     Images  Instances      Box(P          R      mAP50  mAP50-95): 100%|██████████| 27/27 [00:08<00:00,  3.04\n"
     ]
    },
    {
     "name": "stdout",
     "output_type": "stream",
     "text": [
      "                   all        425       7665      0.683      0.163      0.145     0.0867\n",
      "\n",
      "      Epoch    GPU_mem   box_loss   cls_loss   dfl_loss  Instances       Size\n"
     ]
    },
    {
     "name": "stderr",
     "output_type": "stream",
     "text": [
      "       6/20      4.72G      1.666      1.949      1.313        191        640: 100%|██████████| 186/186 [04:55<00:00,  1.59s/it]\n",
      "                 Class     Images  Instances      Box(P          R      mAP50  mAP50-95): 100%|██████████| 27/27 [00:29<00:00,  1.11\n"
     ]
    },
    {
     "name": "stdout",
     "output_type": "stream",
     "text": [
      "                   all        425       7665      0.695      0.158      0.172      0.105\n",
      "\n",
      "      Epoch    GPU_mem   box_loss   cls_loss   dfl_loss  Instances       Size\n"
     ]
    },
    {
     "name": "stderr",
     "output_type": "stream",
     "text": [
      "       7/20      5.98G      1.627      1.892      1.286        266        640: 100%|██████████| 186/186 [01:20<00:00,  2.30it/s]\n",
      "                 Class     Images  Instances      Box(P          R      mAP50  mAP50-95): 100%|██████████| 27/27 [00:07<00:00,  3.85\n"
     ]
    },
    {
     "name": "stdout",
     "output_type": "stream",
     "text": [
      "                   all        425       7665      0.622      0.176      0.183      0.111\n",
      "\n",
      "      Epoch    GPU_mem   box_loss   cls_loss   dfl_loss  Instances       Size\n"
     ]
    },
    {
     "name": "stderr",
     "output_type": "stream",
     "text": [
      "       8/20      4.06G      1.617      1.881      1.294        244        640: 100%|██████████| 186/186 [00:54<00:00,  3.42it/s]\n",
      "                 Class     Images  Instances      Box(P          R      mAP50  mAP50-95): 100%|██████████| 27/27 [00:05<00:00,  4.70\n"
     ]
    },
    {
     "name": "stdout",
     "output_type": "stream",
     "text": [
      "                   all        425       7665      0.549      0.206      0.184      0.112\n",
      "\n",
      "      Epoch    GPU_mem   box_loss   cls_loss   dfl_loss  Instances       Size\n"
     ]
    },
    {
     "name": "stderr",
     "output_type": "stream",
     "text": [
      "       9/20      4.88G      1.621      1.847       1.28        167        640: 100%|██████████| 186/186 [01:08<00:00,  2.73it/s]\n",
      "                 Class     Images  Instances      Box(P          R      mAP50  mAP50-95): 100%|██████████| 27/27 [00:06<00:00,  4.31\n"
     ]
    },
    {
     "name": "stdout",
     "output_type": "stream",
     "text": [
      "                   all        425       7665      0.591      0.207        0.2      0.119\n",
      "\n",
      "      Epoch    GPU_mem   box_loss   cls_loss   dfl_loss  Instances       Size\n"
     ]
    },
    {
     "name": "stderr",
     "output_type": "stream",
     "text": [
      "      10/20      5.65G      1.562      1.813      1.257        273        640: 100%|██████████| 186/186 [01:04<00:00,  2.87it/s]\n",
      "                 Class     Images  Instances      Box(P          R      mAP50  mAP50-95): 100%|██████████| 27/27 [00:07<00:00,  3.63\n"
     ]
    },
    {
     "name": "stdout",
     "output_type": "stream",
     "text": [
      "                   all        425       7665      0.598      0.218      0.205      0.126\n",
      "Closing dataloader mosaic\n",
      "\n",
      "      Epoch    GPU_mem   box_loss   cls_loss   dfl_loss  Instances       Size\n"
     ]
    },
    {
     "name": "stderr",
     "output_type": "stream",
     "text": [
      "      11/20      4.71G      1.594      1.934      1.281         66        640: 100%|██████████| 186/186 [01:18<00:00,  2.37it/s]\n",
      "                 Class     Images  Instances      Box(P          R      mAP50  mAP50-95): 100%|██████████| 27/27 [00:45<00:00,  1.67"
     ]
    },
    {
     "name": "stdout",
     "output_type": "stream",
     "text": [
      "                   all        425       7665      0.573        0.2      0.211      0.126\n"
     ]
    },
    {
     "name": "stderr",
     "output_type": "stream",
     "text": [
      "\n"
     ]
    },
    {
     "name": "stdout",
     "output_type": "stream",
     "text": [
      "\n",
      "      Epoch    GPU_mem   box_loss   cls_loss   dfl_loss  Instances       Size\n"
     ]
    },
    {
     "name": "stderr",
     "output_type": "stream",
     "text": [
      "      12/20      4.69G      1.558      1.849       1.27         82        640: 100%|██████████| 186/186 [01:00<00:00,  3.08it/s]\n",
      "                 Class     Images  Instances      Box(P          R      mAP50  mAP50-95): 100%|██████████| 27/27 [00:06<00:00,  4.23\n"
     ]
    },
    {
     "name": "stdout",
     "output_type": "stream",
     "text": [
      "                   all        425       7665      0.558       0.23      0.219      0.136\n",
      "\n",
      "      Epoch    GPU_mem   box_loss   cls_loss   dfl_loss  Instances       Size\n"
     ]
    },
    {
     "name": "stderr",
     "output_type": "stream",
     "text": [
      "      13/20      4.71G      1.545      1.835      1.273        114        640: 100%|██████████| 186/186 [01:00<00:00,  3.09it/s]\n",
      "                 Class     Images  Instances      Box(P          R      mAP50  mAP50-95): 100%|██████████| 27/27 [00:06<00:00,  4.38\n"
     ]
    },
    {
     "name": "stdout",
     "output_type": "stream",
     "text": [
      "                   all        425       7665      0.521      0.233      0.237      0.148\n",
      "\n",
      "      Epoch    GPU_mem   box_loss   cls_loss   dfl_loss  Instances       Size\n"
     ]
    },
    {
     "name": "stderr",
     "output_type": "stream",
     "text": [
      "      14/20      4.65G       1.52      1.801      1.252         89        640: 100%|██████████| 186/186 [03:14<00:00,  1.05s/it]\n",
      "                 Class     Images  Instances      Box(P          R      mAP50  mAP50-95): 100%|██████████| 27/27 [00:28<00:00,  1.04"
     ]
    },
    {
     "name": "stdout",
     "output_type": "stream",
     "text": [
      "                   all        425       7665      0.651      0.228      0.234      0.146\n"
     ]
    },
    {
     "name": "stderr",
     "output_type": "stream",
     "text": [
      "\n"
     ]
    },
    {
     "name": "stdout",
     "output_type": "stream",
     "text": [
      "\n",
      "      Epoch    GPU_mem   box_loss   cls_loss   dfl_loss  Instances       Size\n"
     ]
    },
    {
     "name": "stderr",
     "output_type": "stream",
     "text": [
      "      15/20      4.76G      1.505       1.76      1.247         64        640: 100%|██████████| 186/186 [00:58<00:00,  3.16it/s]\n",
      "                 Class     Images  Instances      Box(P          R      mAP50  mAP50-95): 100%|██████████| 27/27 [00:05<00:00,  4.58\n"
     ]
    },
    {
     "name": "stdout",
     "output_type": "stream",
     "text": [
      "                   all        425       7665      0.668      0.219      0.237      0.154\n",
      "\n",
      "      Epoch    GPU_mem   box_loss   cls_loss   dfl_loss  Instances       Size\n"
     ]
    },
    {
     "name": "stderr",
     "output_type": "stream",
     "text": [
      "      16/20      4.62G      1.477      1.721      1.228        108        640: 100%|██████████| 186/186 [00:58<00:00,  3.17it/s]\n",
      "                 Class     Images  Instances      Box(P          R      mAP50  mAP50-95): 100%|██████████| 27/27 [00:05<00:00,  4.65\n"
     ]
    },
    {
     "name": "stdout",
     "output_type": "stream",
     "text": [
      "                   all        425       7665      0.585      0.227      0.237      0.154\n",
      "\n",
      "      Epoch    GPU_mem   box_loss   cls_loss   dfl_loss  Instances       Size\n"
     ]
    },
    {
     "name": "stderr",
     "output_type": "stream",
     "text": [
      "      17/20      4.73G      1.472      1.695      1.229         65        640: 100%|██████████| 186/186 [00:59<00:00,  3.15it/s]\n",
      "                 Class     Images  Instances      Box(P          R      mAP50  mAP50-95): 100%|██████████| 27/27 [00:06<00:00,  4.29\n"
     ]
    },
    {
     "name": "stdout",
     "output_type": "stream",
     "text": [
      "                   all        425       7665      0.642      0.231      0.236      0.155\n",
      "\n",
      "      Epoch    GPU_mem   box_loss   cls_loss   dfl_loss  Instances       Size\n"
     ]
    },
    {
     "name": "stderr",
     "output_type": "stream",
     "text": [
      "      18/20      4.59G       1.46      1.687      1.208         76        640: 100%|██████████| 186/186 [00:57<00:00,  3.21it/s]\n",
      "                 Class     Images  Instances      Box(P          R      mAP50  mAP50-95): 100%|██████████| 27/27 [00:06<00:00,  4.32\n"
     ]
    },
    {
     "name": "stdout",
     "output_type": "stream",
     "text": [
      "                   all        425       7665      0.624      0.219      0.255      0.177\n",
      "\n",
      "      Epoch    GPU_mem   box_loss   cls_loss   dfl_loss  Instances       Size\n"
     ]
    },
    {
     "name": "stderr",
     "output_type": "stream",
     "text": [
      "      19/20      4.61G      1.434       1.65      1.204         49        640: 100%|██████████| 186/186 [00:57<00:00,  3.22it/s]\n",
      "                 Class     Images  Instances      Box(P          R      mAP50  mAP50-95): 100%|██████████| 27/27 [00:06<00:00,  4.44\n"
     ]
    },
    {
     "name": "stdout",
     "output_type": "stream",
     "text": [
      "                   all        425       7665      0.664      0.215      0.265      0.182\n",
      "\n",
      "      Epoch    GPU_mem   box_loss   cls_loss   dfl_loss  Instances       Size\n"
     ]
    },
    {
     "name": "stderr",
     "output_type": "stream",
     "text": [
      "      20/20      4.69G      1.434      1.642      1.207         95        640: 100%|██████████| 186/186 [00:58<00:00,  3.17it/s]\n",
      "                 Class     Images  Instances      Box(P          R      mAP50  mAP50-95): 100%|██████████| 27/27 [00:05<00:00,  4.63\n"
     ]
    },
    {
     "name": "stdout",
     "output_type": "stream",
     "text": [
      "                   all        425       7665      0.659      0.212      0.271      0.186\n",
      "\n",
      "20 epochs completed in 0.536 hours.\n",
      "Optimizer stripped from /mnt/e/Programming-Projects/AIML/CV/UI-Analyzer/runs/detect/train3/weights/last.pt, 6.2MB\n",
      "Optimizer stripped from /mnt/e/Programming-Projects/AIML/CV/UI-Analyzer/runs/detect/train3/weights/best.pt, 6.2MB\n",
      "\n",
      "Validating /mnt/e/Programming-Projects/AIML/CV/UI-Analyzer/runs/detect/train3/weights/best.pt...\n",
      "Ultralytics 8.3.106 🚀 Python-3.10.12 torch-2.6.0+cu124 CUDA:0 (NVIDIA GeForce GTX 1650 with Max-Q Design, 4096MiB)\n",
      "Model summary (fused): 72 layers, 3,008,378 parameters, 0 gradients, 8.1 GFLOPs\n"
     ]
    },
    {
     "name": "stderr",
     "output_type": "stream",
     "text": [
      "                 Class     Images  Instances      Box(P          R      mAP50  mAP50-95): 100%|██████████| 27/27 [00:08<00:00,  3.00\n"
     ]
    },
    {
     "name": "stdout",
     "output_type": "stream",
     "text": [
      "                   all        425       7665      0.658      0.212      0.271      0.186\n",
      "                Button        195        471       0.62       0.55      0.587      0.436\n",
      "              CheckBox         34        123      0.476      0.203      0.167      0.076\n",
      "       CheckedTextView          9         56      0.189      0.429      0.446      0.364\n",
      "              EditText         97        211      0.615       0.46      0.538      0.348\n",
      "             EditText-          2          3          1          0      0.393      0.332\n",
      "           ImageButton        272        622      0.652      0.308      0.456       0.28\n",
      "             ImageView        313       2076      0.624      0.407      0.483      0.319\n",
      "           ProgressBar         14         16          0          0          0          0\n",
      "           RadioButton         16         86      0.448      0.326      0.324       0.22\n",
      "             RatingBar          5         20          1          0          0          0\n",
      "               SeekBar         14         20          1          0          0          0\n",
      "               Spinner         23         24          1          0    0.00682    0.00406\n",
      "                Switch         14         21          1          0     0.0177     0.0127\n",
      "              TextView        413       3916      0.594      0.288      0.381      0.212\n",
      "Speed: 0.3ms preprocess, 4.7ms inference, 0.0ms loss, 4.5ms postprocess per image\n",
      "Results saved to \u001b[1m/mnt/e/Programming-Projects/AIML/CV/UI-Analyzer/runs/detect/train3\u001b[0m\n",
      "Ultralytics 8.3.106 🚀 Python-3.10.12 torch-2.6.0+cu124 CUDA:0 (NVIDIA GeForce GTX 1650 with Max-Q Design, 4096MiB)\n",
      "Model summary (fused): 72 layers, 3,008,378 parameters, 0 gradients, 8.1 GFLOPs\n"
     ]
    },
    {
     "name": "stderr",
     "output_type": "stream",
     "text": [
      "\u001b[34m\u001b[1mval: \u001b[0mScanning /mnt/e/Programming-Projects/AIML/CV/UI-Analyzer/backend/training/UI-Components/valid/labels.cache... 425 images, 0 bac\u001b[0m"
     ]
    },
    {
     "name": "stdout",
     "output_type": "stream",
     "text": [
      "\u001b[34m\u001b[1mval: \u001b[0mWARNING ⚠️ /mnt/e/Programming-Projects/AIML/CV/UI-Analyzer/backend/training/UI-Components/valid/images/1019_png.rf.fea3a0004718a680308aacae4ed5ac45.jpg: 1 duplicate labels removed\n",
      "\u001b[34m\u001b[1mval: \u001b[0mWARNING ⚠️ /mnt/e/Programming-Projects/AIML/CV/UI-Analyzer/backend/training/UI-Components/valid/images/1065_png.rf.b6a7b1ed765321996eed4755e9f0de02.jpg: 7 duplicate labels removed\n",
      "\u001b[34m\u001b[1mval: \u001b[0mWARNING ⚠️ /mnt/e/Programming-Projects/AIML/CV/UI-Analyzer/backend/training/UI-Components/valid/images/1096_png.rf.be2affe4f3121bc02983de3e396d9e26.jpg: 43 duplicate labels removed\n",
      "\u001b[34m\u001b[1mval: \u001b[0mWARNING ⚠️ /mnt/e/Programming-Projects/AIML/CV/UI-Analyzer/backend/training/UI-Components/valid/images/149_png.rf.8ab5782ca850321bc82af2bd61601a4d.jpg: 15 duplicate labels removed\n",
      "\u001b[34m\u001b[1mval: \u001b[0mWARNING ⚠️ /mnt/e/Programming-Projects/AIML/CV/UI-Analyzer/backend/training/UI-Components/valid/images/164_png.rf.4493cff41ec4888a6c5d8590ca27e109.jpg: 2 duplicate labels removed\n",
      "\u001b[34m\u001b[1mval: \u001b[0mWARNING ⚠️ /mnt/e/Programming-Projects/AIML/CV/UI-Analyzer/backend/training/UI-Components/valid/images/189_png.rf.7041c7a7570ecbdee740f372a4429ce5.jpg: 1 duplicate labels removed\n",
      "\u001b[34m\u001b[1mval: \u001b[0mWARNING ⚠️ /mnt/e/Programming-Projects/AIML/CV/UI-Analyzer/backend/training/UI-Components/valid/images/194_png.rf.8121f54a0b233fa1e887f3db3afe26b0.jpg: 1 duplicate labels removed\n",
      "\u001b[34m\u001b[1mval: \u001b[0mWARNING ⚠️ /mnt/e/Programming-Projects/AIML/CV/UI-Analyzer/backend/training/UI-Components/valid/images/599_png.rf.695202bf2f214b76a34597c7d6fa824b.jpg: 1 duplicate labels removed\n",
      "\u001b[34m\u001b[1mval: \u001b[0mWARNING ⚠️ /mnt/e/Programming-Projects/AIML/CV/UI-Analyzer/backend/training/UI-Components/valid/images/659_png.rf.2882f34e5a21689186c3f42f652798c9.jpg: 3 duplicate labels removed\n",
      "\u001b[34m\u001b[1mval: \u001b[0mWARNING ⚠️ /mnt/e/Programming-Projects/AIML/CV/UI-Analyzer/backend/training/UI-Components/valid/images/768_png.rf.809c69ea25e1f725f3877e0872e73c9e.jpg: 1 duplicate labels removed\n",
      "\u001b[34m\u001b[1mval: \u001b[0mWARNING ⚠️ /mnt/e/Programming-Projects/AIML/CV/UI-Analyzer/backend/training/UI-Components/valid/images/783_png.rf.14d518a82473f3b78f5cdb6ab2f3a59b.jpg: 1 duplicate labels removed\n",
      "\u001b[34m\u001b[1mval: \u001b[0mWARNING ⚠️ /mnt/e/Programming-Projects/AIML/CV/UI-Analyzer/backend/training/UI-Components/valid/images/993_png.rf.38ff126cd4e566b5a25498fe0d2ee46c.jpg: 1 duplicate labels removed\n"
     ]
    },
    {
     "name": "stderr",
     "output_type": "stream",
     "text": [
      "\n",
      "                 Class     Images  Instances      Box(P          R      mAP50  mAP50-95): 100%|██████████| 54/54 [00:10<00:00,  5.11\n"
     ]
    },
    {
     "name": "stdout",
     "output_type": "stream",
     "text": [
      "                   all        425       7665      0.658      0.212      0.271      0.186\n",
      "                Button        195        471       0.62       0.55      0.587      0.436\n",
      "              CheckBox         34        123      0.476      0.203      0.168      0.076\n",
      "       CheckedTextView          9         56      0.189      0.429      0.446      0.364\n",
      "              EditText         97        211      0.615       0.46      0.538      0.348\n",
      "             EditText-          2          3          1          0      0.393      0.332\n",
      "           ImageButton        272        622      0.652      0.308      0.456       0.28\n",
      "             ImageView        313       2076      0.624      0.407      0.483      0.319\n",
      "           ProgressBar         14         16          0          0          0          0\n",
      "           RadioButton         16         86      0.448      0.326      0.324       0.22\n",
      "             RatingBar          5         20          1          0          0          0\n",
      "               SeekBar         14         20          1          0          0          0\n",
      "               Spinner         23         24          1          0    0.00682    0.00406\n",
      "                Switch         14         21          1          0     0.0177     0.0127\n",
      "              TextView        413       3916      0.594      0.288      0.381      0.212\n",
      "Speed: 0.4ms preprocess, 6.5ms inference, 0.0ms loss, 5.4ms postprocess per image\n",
      "Results saved to \u001b[1m/mnt/e/Programming-Projects/AIML/CV/UI-Analyzer/runs/detect/train32\u001b[0m\n"
     ]
    }
   ],
   "source": [
    "model = YOLO(\"yolov8n.pt\")\n",
    "\n",
    "train_results = model.train(\n",
    "    data=\"data.yaml\",\n",
    "    epochs=20,\n",
    "    imgsz=640,\n",
    "    device=\"cuda\",\n",
    "    batch=8\n",
    ")\n",
    "\n",
    "# Evaluate performance\n",
    "metrics = model.val()"
   ]
  },
  {
   "cell_type": "code",
   "execution_count": 5,
   "id": "eec98a33",
   "metadata": {
    "scrolled": true
   },
   "outputs": [
    {
     "name": "stdout",
     "output_type": "stream",
     "text": [
      "\n",
      "image 1/1 /mnt/e/Programming-Projects/AIML/CV/UI-Analyzer/backend/training/UI-Components/test/images/54_png.rf.7b7fb62e21472b48df2e8c9255919ceb.jpg: 640x416 1 Button, 1 ImageButton, 2 ImageViews, 9 TextViews, 66.4ms\n",
      "Speed: 6.3ms preprocess, 66.4ms inference, 8.1ms postprocess per image at shape (1, 3, 640, 416)\n"
     ]
    }
   ],
   "source": [
    "# Detect elements in a test image\n",
    "results = model(\"test/images/54_png.rf.7b7fb62e21472b48df2e8c9255919ceb.jpg\")\n",
    "results[0].show()"
   ]
  },
  {
   "cell_type": "code",
   "execution_count": 6,
   "id": "3ad8f775-97dd-4636-a20a-53846a7b60f5",
   "metadata": {},
   "outputs": [],
   "source": [
    "model.save(\"trained_model.pt\")"
   ]
  },
  {
   "cell_type": "code",
   "execution_count": 3,
   "id": "b31b57dc-fade-4132-83e0-52ca8fe3132f",
   "metadata": {},
   "outputs": [],
   "source": [
    "model2 = YOLO(\"./trained_model.pt\")"
   ]
  },
  {
   "cell_type": "code",
   "execution_count": 6,
   "id": "db1b810c-b5c2-4680-b4e5-14d69497d04b",
   "metadata": {},
   "outputs": [
    {
     "name": "stdout",
     "output_type": "stream",
     "text": [
      "\n",
      "image 1/1 E:\\Programming-Projects\\AIML\\CV\\UI-Analyzer\\frontend\\src\\assets\\Screenshot 2025-04-10 234120.png: 640x352 1 Button, 4 ImageViews, 9 TextViews, 53.4ms\n",
      "Speed: 1.9ms preprocess, 53.4ms inference, 1.0ms postprocess per image at shape (1, 3, 640, 352)\n"
     ]
    }
   ],
   "source": [
    "path = r\"E:\\Programming-Projects\\AIML\\CV\\UI-Analyzer\\frontend\\src\\assets\\Screenshot 2025-04-10 234120.png\"\n",
    "results = model2(path)\n",
    "results[0].show()"
   ]
  },
  {
   "cell_type": "code",
   "execution_count": null,
   "id": "6fea61d1-6759-44dc-b05b-0261c9f454c0",
   "metadata": {},
   "outputs": [],
   "source": []
  }
 ],
 "metadata": {
  "kernelspec": {
   "display_name": "venv",
   "language": "python",
   "name": "python3"
  },
  "language_info": {
   "codemirror_mode": {
    "name": "ipython",
    "version": 3
   },
   "file_extension": ".py",
   "mimetype": "text/x-python",
   "name": "python",
   "nbconvert_exporter": "python",
   "pygments_lexer": "ipython3",
   "version": "3.12.3"
  }
 },
 "nbformat": 4,
 "nbformat_minor": 5
}
